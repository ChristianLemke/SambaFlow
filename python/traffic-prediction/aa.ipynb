{ 
 "cells": [ 
  { 
   "cell_type": "code", 
   "execution_count": 132, 
   "metadata": { 
    "collapsed": false 
   }, 
   "outputs": [ 
    { 
     "name": "stdout", 
     "output_type": "stream", 
     "text": [ 
      "C:\\Users\\Chrisi\\Desktop\\Studium\\BigDataScience\\sose17-small-data\\python\\traffic-prediction\n", 
      "sys.version_info(major=3, minor=5, micro=2, releaselevel='final', serial=0)\n" 
     ] 
    } 
   ], 
   "source": [ 
    "import csv\n", 
    "import pandas as pd\n", 
    "import numpy as np\n", 
    "import src.Paths as path\n", 
    "\n", 
    "import sys\n", 
    "import os\n", 
    "\n", 
    "print(os.getcwd())\n", 
    "print(sys.version_info)" 
   ] 
  }, 
  { 
   "cell_type": "code", 
   "execution_count": 133, 
   "metadata": { 
    "collapsed": false 
   }, 
   "outputs": [ 
    { 
     "data": { 
      "text/plain": [ 
       "'../../new_dataset/training/trajectories(table 5)_training.csv'" 
      ] 
     }, 
     "execution_count": 133, 
     "metadata": {}, 
     "output_type": "execute_result" 
    } 
   ], 
   "source": [ 
    "path.trajectories_training_file" 
   ] 
  }, 
  { 
   "cell_type": "code", 
   "execution_count": 134, 
   "metadata": { 
    "collapsed": false, 
    "scrolled": false 
   }, 
   "outputs": [], 
   "source": [ 
    "training_files = \"../../dataset/training/\"\n", 
    "links_file = \"links (table 3).csv\"\n", 
    "routes_file = \"routes (table 4).csv\"\n", 
    "trajectories_file = \"trajectories(table 5)_training.csv\"\n", 
    "volume_file = \"volume(table 6)_training.csv\"\n", 
    "weather_file = \"weather (table 7)_training.csv\"\n", 
    "\n", 
    "routes_df = pd.read_csv(training_files+routes_file)\n", 
    "links_df = pd.read_csv(training_files+links_file)\n", 
    "weather_df = pd.read_csv(training_files+weather_file)\n", 
    "volume_df = pd.read_csv(training_files+volume_file)\n", 
    "\n", 
    "training_files = \"../../new_dataset/training/\"\n", 
    "trajectories_df = pd.read_csv(training_files+trajectories_file)\n", 
    "\n", 
    "\n", 
    "\n" 
   ] 
  }, 
  { 
   "cell_type": "code", 
   "execution_count": 135, 
   "metadata": { 
    "collapsed": false, 
    "scrolled": true 
   }, 
   "outputs": [ 
    { 
     "data": { 
      "text/html": [ 
       "<div>\n", 
       "<table border=\"1\" class=\"dataframe\">\n", 
       "  <thead>\n", 
       "    <tr style=\"text-align: right;\">\n", 
       "      <th></th>\n", 
       "      <th>intersection_id</th>\n", 
       "      <th>tollgate_id</th>\n", 
       "      <th>link_seq</th>\n", 
       "    </tr>\n", 
       "  </thead>\n", 
       "  <tbody>\n", 
       "    <tr>\n", 
       "      <th>0</th>\n", 
       "      <td>A</td>\n", 
       "      <td>2</td>\n", 
       "      <td>110,123,107,108,120,117</td>\n", 
       "    </tr>\n", 
       "    <tr>\n", 
       "      <th>1</th>\n", 
       "      <td>A</td>\n", 
       "      <td>3</td>\n", 
       "      <td>110,123,107,108,119,114,118,122</td>\n", 
       "    </tr>\n", 
       "    <tr>\n", 
       "      <th>2</th>\n", 
       "      <td>B</td>\n", 
       "      <td>1</td>\n", 
       "      <td>105,100,111,103,116,101,121,106,113</td>\n", 
       "    </tr>\n", 
       "    <tr>\n", 
       "      <th>3</th>\n", 
       "      <td>B</td>\n", 
       "      <td>3</td>\n", 
       "      <td>105,100,111,103,122</td>\n", 
       "    </tr>\n", 
       "    <tr>\n", 
       "      <th>4</th>\n", 
       "      <td>C</td>\n", 
       "      <td>1</td>\n", 
       "      <td>115,102,109,104,112,111,103,116,101,121,106,113</td>\n", 
       "    </tr>\n", 
       "    <tr>\n", 
       "      <th>5</th>\n", 
       "      <td>C</td>\n", 
       "      <td>3</td>\n", 
       "      <td>115,102,109,104,112,111,103,122</td>\n", 
       "    </tr>\n", 
       "  </tbody>\n", 
       "</table>\n", 
       "</div>" 
      ], 
      "text/plain": [ 
       "  intersection_id  tollgate_id  \\\n", 
       "0               A            2   \n", 
       "1               A            3   \n", 
       "2               B            1   \n", 
       "3               B            3   \n", 
       "4               C            1   \n", 
       "5               C            3   \n", 
       "\n", 
       "                                          link_seq  \n", 
       "0                          110,123,107,108,120,117  \n", 
       "1                  110,123,107,108,119,114,118,122  \n", 
       "2              105,100,111,103,116,101,121,106,113  \n", 
       "3                              105,100,111,103,122  \n", 
       "4  115,102,109,104,112,111,103,116,101,121,106,113  \n", 
       "5                  115,102,109,104,112,111,103,122  " 
      ] 
     }, 
     "execution_count": 135, 
     "metadata": {}, 
     "output_type": "execute_result" 
    } 
   ], 
   "source": [ 
    "routes_df" 
   ] 
  }, 
  { 
   "cell_type": "code", 
   "execution_count": 136, 
   "metadata": { 
    "collapsed": false, 
    "scrolled": true 
   }, 
   "outputs": [ 
    { 
     "data": { 
      "text/html": [ 
       "<div>\n", 
       "<table border=\"1\" class=\"dataframe\">\n", 
       "  <thead>\n", 
       "    <tr style=\"text-align: right;\">\n", 
       "      <th></th>\n", 
       "      <th>link_id</th>\n", 
       "      <th>length</th>\n", 
       "      <th>width</th>\n", 
       "      <th>lanes</th>\n", 
       "      <th>in_top</th>\n", 
       "      <th>out_top</th>\n", 
       "      <th>lane_width</th>\n", 
       "    </tr>\n", 
       "  </thead>\n", 
       "  <tbody>\n", 
       "    <tr>\n", 
       "      <th>0</th>\n", 
       "      <td>100</td>\n", 
       "      <td>58</td>\n", 
       "      <td>3</td>\n", 
       "      <td>1</td>\n", 
       "      <td>105</td>\n", 
       "      <td>111</td>\n", 
       "      <td>3</td>\n", 
       "    </tr>\n", 
       "    <tr>\n", 
       "      <th>1</th>\n", 
       "      <td>101</td>\n", 
       "      <td>84</td>\n", 
       "      <td>3</td>\n", 
       "      <td>1</td>\n", 
       "      <td>116</td>\n", 
       "      <td>121</td>\n", 
       "      <td>3</td>\n", 
       "    </tr>\n", 
       "    <tr>\n", 
       "      <th>2</th>\n", 
       "      <td>102</td>\n", 
       "      <td>131</td>\n", 
       "      <td>9</td>\n", 
       "      <td>3</td>\n", 
       "      <td>115</td>\n", 
       "      <td>109</td>\n", 
       "      <td>3</td>\n", 
       "    </tr>\n", 
       "    <tr>\n", 
       "      <th>3</th>\n", 
       "      <td>103</td>\n", 
       "      <td>23</td>\n", 
       "      <td>12</td>\n", 
       "      <td>4</td>\n", 
       "      <td>111</td>\n", 
       "      <td>122,116</td>\n", 
       "      <td>3</td>\n", 
       "    </tr>\n", 
       "    <tr>\n", 
       "      <th>4</th>\n", 
       "      <td>104</td>\n", 
       "      <td>293</td>\n", 
       "      <td>9</td>\n", 
       "      <td>3</td>\n", 
       "      <td>109</td>\n", 
       "      <td>112</td>\n", 
       "      <td>3</td>\n", 
       "    </tr>\n", 
       "    <tr>\n", 
       "      <th>5</th>\n", 
       "      <td>105</td>\n", 
       "      <td>78</td>\n", 
       "      <td>6</td>\n", 
       "      <td>2</td>\n", 
       "      <td>NaN</td>\n", 
       "      <td>100</td>\n", 
       "      <td>3</td>\n", 
       "    </tr>\n", 
       "    <tr>\n", 
       "      <th>6</th>\n", 
       "      <td>106</td>\n", 
       "      <td>15</td>\n", 
       "      <td>3</td>\n", 
       "      <td>1</td>\n", 
       "      <td>121</td>\n", 
       "      <td>113</td>\n", 
       "      <td>3</td>\n", 
       "    </tr>\n", 
       "    <tr>\n", 
       "      <th>7</th>\n", 
       "      <td>107</td>\n", 
       "      <td>34</td>\n", 
       "      <td>9</td>\n", 
       "      <td>3</td>\n", 
       "      <td>123</td>\n", 
       "      <td>108</td>\n", 
       "      <td>3</td>\n", 
       "    </tr>\n", 
       "    <tr>\n", 
       "      <th>8</th>\n", 
       "      <td>108</td>\n", 
       "      <td>40</td>\n", 
       "      <td>9</td>\n", 
       "      <td>3</td>\n", 
       "      <td>107</td>\n", 
       "      <td>119,120</td>\n", 
       "      <td>3</td>\n", 
       "    </tr>\n", 
       "    <tr>\n", 
       "      <th>9</th>\n", 
       "      <td>109</td>\n", 
       "      <td>135</td>\n", 
       "      <td>9</td>\n", 
       "      <td>3</td>\n", 
       "      <td>102</td>\n", 
       "      <td>104</td>\n", 
       "      <td>3</td>\n", 
       "    </tr>\n", 
       "    <tr>\n", 
       "      <th>10</th>\n", 
       "      <td>110</td>\n", 
       "C               1           1070045          205.36  \n", 
       "A               2           1064563           55.66  \n", 
       "B               3           1070066          161.04  \n", 
       "C               1           1076854          135.73  \n", 
       "A               2           1084497           38.69  \n", 
       "                3           1014161           99.26  \n", 
       "                            1012763          118.68  \n", 
       "                            1057709           71.90  \n", 
       "                            1069044          122.80  \n", 
       "B               3           1082678          120.83  \n", 
       "A               2           1081411           78.71  \n", 
       "                            1036997           93.25  \n", 
       "C               3           1059460          180.40  \n", 
       "A               2           1007462           48.53  \n", 
       "                3           1005569          172.82  \n", 
       "C               3           1033579          116.50  \n", 
       "A               2           1021625           89.36  \n", 
       "                3           1020754           68.13  \n", 
       "B               1           1045425          144.34  \n", 
       "                3           1034418          115.95  \n", 
       "C               1           1017548          196.71  \n", 
       "A               2           1032612           66.18  \n", 
       "                            1014027           12.67  \n", 
       "                            1051728           66.24  \n", 
       "C               1           1022536          132.21  \n", 
       "A               2           1022842           57.31  \n", 
       "                            1006481           59.04  \n", 
       "B               3           1047561           86.82  \n", 
       "A               3           1011494           93.25  \n", 
       "C               1           1025289          176.43  \n", 
       "                            1029065          131.24  \n", 
       "A               3           1029382          148.62  \n", 
       "                2           1009092          111.42  " 
      ] 
     }, 
     "execution_count": 205, 
     "metadata": {}, 
     "output_type": "execute_result" 
    } 
   ], 
   "source": [ 
    "from datetime import time\n", 
    "df3 = trajectories_df\n", 
    "df3 = df3.set_index(['intersection_id', 'tollgate_id', 'vehicle_id'])\n", 
    "\n", 
    "df3['starting_time'] = pd.to_datetime(df3['starting_time'])\n", 
    "df3 = df3[df3['starting_time'].dt.dayofweek == 1]\n", 
    "df3 = df3[(df3['starting_time'].dt.hour >= 14) & (df3['starting_time'].dt.hour <= 14) & \n", 
    "          (df3['starting_time'].dt.minute >= 49) & (df3['starting_time'].dt.minute <= 50)]\n", 
    "print( len(df3))\n", 
    "df3" 
   ] 
  } 
 ], 
 "metadata": { 
  "anaconda-cloud": {}, 
  "kernelspec": { 
   "display_name": "Python [conda root]", 
   "language": "python", 
   "name": "conda-root-py" 
  }, 
  "language_info": { 
   "codemirror_mode": { 
    "name": "ipython", 
    "version": 3 
   }, 
   "file_extension": ".py", 
   "mimetype": "text/x-python", 
   "name": "python", 
   "nbconvert_exporter": "python", 
   "pygments_lexer": "ipython3", 
   "version": "3.5.2" 
  } 
 }, 
 "nbformat": 4, 
 "nbformat_minor": 0 
} 